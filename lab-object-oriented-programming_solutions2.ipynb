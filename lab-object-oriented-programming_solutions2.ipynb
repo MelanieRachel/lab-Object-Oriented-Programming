{
 "cells": [
  {
   "cell_type": "markdown",
   "id": "66694c3c",
   "metadata": {},
   "source": [
    "## Lab | Object Oriented Programming"
   ]
  },
  {
   "cell_type": "markdown",
   "id": "9d94ad2d",
   "metadata": {},
   "source": [
    "**Introduction**\n",
    "\n",
    "In this lab you have to implement a Python class for a TV.\n",
    "\n",
    "**Constructor**\n",
    "\n",
    "Crete a Python Tv class with a constructor and the following attributes:\n",
    "\n",
    "* on (Boolean)\n",
    "* volume (float in [0,100])\n",
    "* active_channel (int in [1,10])\n",
    "* input (str in [\"Anthena\", \"HDMI1\", \"HDMI2\", \"HDMI3\"])\n",
    "* size (float in [42, 50, 55, 65, 75])\n",
    "\n",
    "**Methods**\n",
    "* switch_on()\n",
    "* switch_off()\n",
    "* set_volume(volume: int)\n",
    "* change_channel(channel: int)\n",
    "* set_input(value: str)\n",
    "\n",
    "**Submission**\n",
    "* Upon completion, add your jupyter notebook to git. \n",
    "* Then commit git and push your branch to the remote.\n",
    "\n",
    "**Resources**\n",
    "\n",
    "Classes in Python Tutorials"
   ]
  },
  {
   "cell_type": "code",
   "execution_count": 2,
   "id": "59469636",
   "metadata": {},
   "outputs": [],
   "source": [
    "# Import Libraries\n",
    "\n",
    "import pandas as pd\n",
    "import numpy as np\n",
    "#from sklearn.linear_model import LinearRegression"
   ]
  },
  {
   "cell_type": "code",
   "execution_count": 8,
   "id": "e36ec0c7",
   "metadata": {},
   "outputs": [
    {
     "name": "stdout",
     "output_type": "stream",
     "text": [
      "TV is off. Please turn it on first.\n",
      "TV42 HDMI1 is on.\n",
      "Active channel: 1\n",
      "Volume: 50\n"
     ]
    }
   ],
   "source": [
    "class tv():\n",
    "    \n",
    "    # Constructor method of the class. This class \"needs\" as arguments: \"on\", \"volume\", \"active_channel\",\"input\", \"size\"\n",
    "    def __init__(self, input, size, on=False, volume=50, active_channel=1):\n",
    "        \n",
    "        self.on = on\n",
    "        self.volume = volume\n",
    "        self.active_channel = active_channel\n",
    "        self.input = input\n",
    "        self.size = size\n",
    "        \n",
    "    def switch_on(self):\n",
    "        self.switch_on = True\n",
    "            \n",
    "    def switch_off(self):\n",
    "        self.switch_off = False\n",
    "        \n",
    "    def set_volume(self,volume): # for loop\n",
    "        if self.on:\n",
    "            self.volume += delta\n",
    "        \n",
    "    def change_channel(self,channel): # for loop\n",
    "        if self.on:\n",
    "            self.active_channel = channel\n",
    "        else:\n",
    "            print(\"TV is off. Please turn it on first.\")\n",
    "        \n",
    "    def set_input(self, input): # for loop\n",
    "        if self.on:\n",
    "            self.input = input\n",
    "        else:\n",
    "            print (\"TV is off. Please turn it on first.\") \n",
    "            \n",
    "    def display_info(self):\n",
    "        status = \"on\" if self.switch_on else \"off\"\n",
    "        #print(f\"{self.input} ({self.size} float) is {status}.\")\n",
    "        print(f\"TV{self.size} {self.input} is {status}.\")\n",
    "        print(f\"Active channel: {self.active_channel}\")\n",
    "        print(f\"Volume: {self.volume}\")\n",
    "        \n",
    "# Create an instance of the TV class\n",
    "tv_1 = tv(size=42, input=\"HDMI1\")\n",
    "\n",
    "# Switch on the TV\n",
    "tv_1.switch_on()\n",
    "\n",
    "# Change the channel\n",
    "tv_1.change_channel(5)\n",
    "\n",
    "# Set the volume\n",
    "tv_1.set_volume(10)\n",
    "\n",
    "# Display TV information\n",
    "tv_1.display_info()\n",
    " "
   ]
  },
  {
   "cell_type": "code",
   "execution_count": 9,
   "id": "a5d0b0f0",
   "metadata": {},
   "outputs": [
    {
     "name": "stdout",
     "output_type": "stream",
     "text": [
      "TV42 HDMI1 is on.\n",
      "Active channel: 5\n",
      "Volume: 10\n"
     ]
    }
   ],
   "source": [
    "class tv():\n",
    "    \n",
    "    # Constructor method of the class. This class \"needs\" as arguments: \"on\", \"volume\", \"active_channel\",\"input\", \"size\"\n",
    "    def __init__(self, input, size, on=False, volume=50, active_channel=1):\n",
    "        \n",
    "        self.on = on\n",
    "        self.volume = volume\n",
    "        self.active_channel = active_channel\n",
    "        self.input = input\n",
    "        self.size = size\n",
    "        \n",
    "    def switch_on(self):\n",
    "        self.on = True\n",
    "            \n",
    "    def switch_off(self):\n",
    "        self.on = False\n",
    "        \n",
    "    def set_volume(self,volume): # for loop\n",
    "        if self.on:\n",
    "            self.volume = volume\n",
    "        \n",
    "    def change_channel(self,channel): # for loop\n",
    "        if self.on:\n",
    "            self.active_channel = channel\n",
    "        else:\n",
    "            print(\"TV is off. Please turn it on first.\")\n",
    "        \n",
    "    def set_input(self, input): # for loop\n",
    "        if self.on:\n",
    "            self.input = input\n",
    "        else:\n",
    "            print (\"TV is off. Please turn it on first.\") \n",
    "            \n",
    "    def display_info(self):\n",
    "        status = \"on\" if self.switch_on else \"off\"\n",
    "        #print(f\"{self.input} ({self.size} float) is {status}.\")\n",
    "        print(f\"TV{self.size} {self.input} is {status}.\")\n",
    "        print(f\"Active channel: {self.active_channel}\")\n",
    "        print(f\"Volume: {self.volume}\")\n",
    "        \n",
    "# Create an instance of the TV class\n",
    "tv_1 = tv(size = 42, input = \"HDMI1\")\n",
    "\n",
    "# Switch on the TV\n",
    "tv_1.switch_on()\n",
    "\n",
    "# Change the channel\n",
    "tv_1.change_channel(5)\n",
    "\n",
    "# Set the volume\n",
    "tv_1.set_volume(10)\n",
    "\n",
    "# Display TV information\n",
    "tv_1.display_info()\n",
    " "
   ]
  },
  {
   "cell_type": "code",
   "execution_count": null,
   "id": "ed676326",
   "metadata": {},
   "outputs": [],
   "source": [
    "# Create TV class with for loop using a dictionairy and list to put in \"size\" and \"input\":"
   ]
  },
  {
   "cell_type": "code",
   "execution_count": null,
   "id": "0a6ac86d",
   "metadata": {},
   "outputs": [],
   "source": []
  },
  {
   "cell_type": "markdown",
   "id": "085178c6",
   "metadata": {},
   "source": [
    "----------"
   ]
  },
  {
   "cell_type": "code",
   "execution_count": null,
   "id": "38da6f31",
   "metadata": {},
   "outputs": [],
   "source": [
    "Methods:\n",
    "    \n",
    "switch_on()\n",
    "switch_off()\n",
    "set_volume(volume: int)\n",
    "change_channel(channel: int)\n",
    "set_input(value: str)"
   ]
  },
  {
   "cell_type": "code",
   "execution_count": null,
   "id": "3cb8e656",
   "metadata": {},
   "outputs": [],
   "source": [
    "Constructor:\n",
    "\n",
    "Crete a Python Tv class with a constructor and the following attributes:\n",
    "\n",
    "on (Boolean)\n",
    "volume (float in [0,100])\n",
    "active_channel (int in [1,10])\n",
    "input (str in [\"Anthena\", \"HDMI1\", \"HDMI2\", \"HDMI3\"])\n",
    "size (float in [42, 50, 55, 65, 75])"
   ]
  }
 ],
 "metadata": {
  "kernelspec": {
   "display_name": "Python 3 (ipykernel)",
   "language": "python",
   "name": "python3"
  },
  "language_info": {
   "codemirror_mode": {
    "name": "ipython",
    "version": 3
   },
   "file_extension": ".py",
   "mimetype": "text/x-python",
   "name": "python",
   "nbconvert_exporter": "python",
   "pygments_lexer": "ipython3",
   "version": "3.11.3"
  }
 },
 "nbformat": 4,
 "nbformat_minor": 5
}

{
 "cells": [
  {
   "cell_type": "markdown",
   "id": "66694c3c",
   "metadata": {},
   "source": [
    "## Lab | Object Oriented Programming"
   ]
  },
  {
   "cell_type": "markdown",
   "id": "9d94ad2d",
   "metadata": {},
   "source": [
    "**Introduction**\n",
    "\n",
    "In this lab you have to implement a Python class for a TV.\n",
    "\n",
    "**Constructor**\n",
    "\n",
    "Crete a Python Tv class with a constructor and the following attributes:\n",
    "\n",
    "* on (Boolean)\n",
    "* volume (float in [0,100])\n",
    "* active_channel (int in [1,10])\n",
    "* input (str in [\"Anthena\", \"HDMI1\", \"HDMI2\", \"HDMI3\"])\n",
    "* size (float in [42, 50, 55, 65, 75])\n",
    "\n",
    "**Methods**\n",
    "* switch_on()\n",
    "* switch_off()\n",
    "* set_volume(volume: int)\n",
    "* change_channel(channel: int)\n",
    "* set_input(value: str)\n",
    "\n",
    "**Submission**\n",
    "* Upon completion, add your jupyter notebook to git. \n",
    "* Then commit git and push your branch to the remote.\n",
    "\n",
    "**Resources**\n",
    "\n",
    "Classes in Python Tutorials"
   ]
  },
  {
   "cell_type": "code",
   "execution_count": 1,
   "id": "59469636",
   "metadata": {},
   "outputs": [],
   "source": [
    "# Import Libraries\n",
    "\n",
    "import pandas as pd\n",
    "import numpy as np\n",
    "from sklearn.linear_model import LinearRegression"
   ]
  },
  {
   "cell_type": "code",
   "execution_count": null,
   "id": "ca6f445d",
   "metadata": {},
   "outputs": [],
   "source": [
    "# Create a Python Tv class\n",
    "\n",
    "class TV():\n",
    "\n",
    "    # Class variable: this variable is common to every instance of the class\n",
    "    annual_raise = 1.04\n",
    "\n",
    "    # Constructor method of the class. This class \"needs\" as arguments: \"name\", \"age\", \"salary\" and optionaly \"department\"\n",
    "    def __init__(self, name, age, salary, department='sales'):\n",
    "        # self is the instance of the class.\n",
    "        # Here we define all the \"attributes\" of the class. Bear in mind that the attributes can be of ANY type\n",
    "        # name -> str\n",
    "        # age -> int\n",
    "        # salay -> float\n",
    "        # department -> string\n",
    "        # we can also set attributes as lists, dictionaries,...etc.\n",
    "        self.name = name\n",
    "        self.age = age\n",
    "        self.salary = salary\n",
    "        self.department = department\n",
    "\n",
    "    # This is one method of the class, to display the info the the employee.\n",
    "    # Bear in mind that it uses \"self\" to access to the instance attributes.\n",
    "    def showEmp(self, show_sal = False):\n",
    "        print('Emp name: ' + self.name)\n",
    "        print('Emp age: ' + str(self.age))\n",
    "        if show_sal:\n",
    "            print('Emp sal :' + str(self.salary))\n",
    "\n",
    "    # Another method of the class.\n",
    "    def giveRaise(self):\n",
    "        self.salary = round(self.salary * self.annual_raise)\n",
    "\n"
   ]
  },
  {
   "cell_type": "code",
   "execution_count": null,
   "id": "9e8097cb",
   "metadata": {},
   "outputs": [],
   "source": [
    "class tv():\n",
    "    \n",
    "    # Class variable: this variable is common to every instance of the class\n",
    "    \n",
    "    on = (Boolean)\n",
    "    volume = (float in [0,100])\n",
    "    active_channel = (int in [1,10])\n",
    "    input = (str in [\"Anthena\", \"HDMI1\", \"HDMI2\", \"HDMI3\"])\n",
    "    size = (float in [42, 50, 55, 65, 75])\n",
    "\n",
    "    # Constructor method of the class. This class \"needs\" as arguments: \"on\", \"volume\", \"active_channel\",\"input\", \"size\"\n",
    "    def __init__(on, volume, active_channel, input):\n",
    "        # self is the instance of the class.\n",
    "        # Here we define all the \"attributes\" of the class. Bear in mind that the attributes can be of ANY type\n",
    "        # on -> Boolean\n",
    "        # volume -> (float in [0,100])\n",
    "        # active_channel -> (int in [1,10])\n",
    "        # input -> (str in [\"Anthena\", \"HDMI1\", \"HDMI2\", \"HDMI3\"])\n",
    "        # size -> (float in [42, 50, 55, 65, 75])\n",
    "        # we can also set attributes as lists, dictionaries,...etc.\n",
    "        self.on = on\n",
    "        self.volume = volume\n",
    "        self.active_channel = active_channel\n",
    "        self.input = input\n",
    "        self.size = size\n",
    "\n",
    "tv_1 =\n",
    "tv_2 =\n",
    "tv_3 =\n",
    "tv_4 =\n",
    "tv_5 =\n",
    "\n",
    "    def set_project_direction(self, direction):\n",
    "        self.project_direction = direction\n",
    "        \n",
    "    def switch_on(self,on):\n",
    "        self.switch_on = on\n",
    "            \n",
    "    def switch_off(self,off):\n",
    "        self.switch_off = off\n",
    "        \n",
    "    def set_volume(self,volume: int):\n",
    "        self.set_volume = [0,100]\n",
    "        \n",
    "    def change_channel(self,channel: int):\n",
    "        self.change_channel = [1,10]\n",
    "        \n",
    "    def set_input(self, value: str):\n",
    "        self.set_input = [\"Anthena\", \"HDMI1\", \"HDMI2\", \"HDMI3\"]\n",
    "            \n",
    "    "
   ]
  },
  {
   "cell_type": "code",
   "execution_count": 45,
   "id": "e36ec0c7",
   "metadata": {},
   "outputs": [
    {
     "name": "stdout",
     "output_type": "stream",
     "text": [
      "TV is off. Please turn it on first.\n",
      "TV42 HDMI1 is on.\n",
      "Active channel: 1\n",
      "Volume: 50\n"
     ]
    }
   ],
   "source": [
    "class tv():\n",
    "    \n",
    "    # Constructor method of the class. This class \"needs\" as arguments: \"on\", \"volume\", \"active_channel\",\"input\", \"size\"\n",
    "    def __init__(self, input, size, on=False, volume=50, active_channel=1):\n",
    "        \n",
    "        self.on = on\n",
    "        self.volume = volume\n",
    "        self.active_channel = active_channel\n",
    "        self.input = input\n",
    "        self.size = size\n",
    "        \n",
    "    def switch_on(self):\n",
    "        self.switch_on = True\n",
    "            \n",
    "    def switch_off(self):\n",
    "        self.switch_off = False\n",
    "        \n",
    "    def set_volume(self,volume): # for loop\n",
    "        if self.on:\n",
    "            self.volume += delta\n",
    "        \n",
    "    def change_channel(self,channel): # for loop\n",
    "        if self.on:\n",
    "            self.active_channel = channel\n",
    "        else:\n",
    "            print(\"TV is off. Please turn it on first.\")\n",
    "        \n",
    "    def set_input(self, input): # for loop\n",
    "        if self.on:\n",
    "            self.input = input\n",
    "        else:\n",
    "            print (\"TV is off. Please turn it on first.\") \n",
    "            \n",
    "    def display_info(self):\n",
    "        status = \"on\" if self.switch_on else \"off\"\n",
    "        #print(f\"{self.input} ({self.size} float) is {status}.\")\n",
    "        print(f\"TV{self.size} {self.input} is {status}.\")\n",
    "        print(f\"Active channel: {self.active_channel}\")\n",
    "        print(f\"Volume: {self.volume}\")\n",
    "        \n",
    "# Create an instance of the TV class\n",
    "tv_1 = tv(size=42, input=\"HDMI1\")\n",
    "\n",
    "# Switch on the TV\n",
    "tv_1.switch_on()\n",
    "\n",
    "# Change the channel\n",
    "tv_1.change_channel(5)\n",
    "\n",
    "# Set the volume\n",
    "tv_1.set_volume(10)\n",
    "\n",
    "# Display TV information\n",
    "tv_1.display_info()\n",
    " "
   ]
  },
  {
   "cell_type": "code",
   "execution_count": 46,
   "id": "1109ee0a",
   "metadata": {},
   "outputs": [
    {
     "data": {
      "text/plain": [
       "<__main__.tv at 0x15fd09e90>"
      ]
     },
     "execution_count": 46,
     "metadata": {},
     "output_type": "execute_result"
    }
   ],
   "source": [
    "# Create an instance of the TV class\n",
    "tv_1 = tv(size=42, input=\"HDMI1\")\n",
    "tv_1"
   ]
  },
  {
   "cell_type": "code",
   "execution_count": 47,
   "id": "361679ca",
   "metadata": {},
   "outputs": [],
   "source": [
    "# Switch on the TV\n",
    "tv_1.switch_on()"
   ]
  },
  {
   "cell_type": "code",
   "execution_count": 49,
   "id": "49577d00",
   "metadata": {},
   "outputs": [
    {
     "name": "stdout",
     "output_type": "stream",
     "text": [
      "TV is off. Please turn it on first.\n"
     ]
    }
   ],
   "source": [
    "# Change the channel\n",
    "tv_1.change_channel(5)"
   ]
  },
  {
   "cell_type": "code",
   "execution_count": 40,
   "id": "3fe752d1",
   "metadata": {},
   "outputs": [
    {
     "data": {
      "text/plain": [
       "<__main__.tv at 0x15e5ee350>"
      ]
     },
     "execution_count": 40,
     "metadata": {},
     "output_type": "execute_result"
    }
   ],
   "source": [
    "# Set the volume\n",
    "tv_1.set_volume(10)"
   ]
  },
  {
   "cell_type": "code",
   "execution_count": 50,
   "id": "4f041125",
   "metadata": {},
   "outputs": [
    {
     "name": "stdout",
     "output_type": "stream",
     "text": [
      "TV42 HDMI1 is on.\n",
      "Active channel: 1\n",
      "Volume: 50\n"
     ]
    }
   ],
   "source": [
    "# Display TV information\n",
    "tv_1.display_info()"
   ]
  },
  {
   "cell_type": "code",
   "execution_count": null,
   "id": "38da6f31",
   "metadata": {},
   "outputs": [],
   "source": [
    "Methods:\n",
    "    \n",
    "switch_on()\n",
    "switch_off()\n",
    "set_volume(volume: int)\n",
    "change_channel(channel: int)\n",
    "set_input(value: str)"
   ]
  },
  {
   "cell_type": "code",
   "execution_count": null,
   "id": "3cb8e656",
   "metadata": {},
   "outputs": [],
   "source": [
    "Constructor\n",
    "\n",
    "Crete a Python Tv class with a constructor and the following attributes:\n",
    "\n",
    "on (Boolean)\n",
    "volume (float in [0,100])\n",
    "active_channel (int in [1,10])\n",
    "input (str in [\"Anthena\", \"HDMI1\", \"HDMI2\", \"HDMI3\"])\n",
    "size (float in [42, 50, 55, 65, 75])"
   ]
  }
 ],
 "metadata": {
  "kernelspec": {
   "display_name": "Python 3 (ipykernel)",
   "language": "python",
   "name": "python3"
  },
  "language_info": {
   "codemirror_mode": {
    "name": "ipython",
    "version": 3
   },
   "file_extension": ".py",
   "mimetype": "text/x-python",
   "name": "python",
   "nbconvert_exporter": "python",
   "pygments_lexer": "ipython3",
   "version": "3.11.3"
  }
 },
 "nbformat": 4,
 "nbformat_minor": 5
}
